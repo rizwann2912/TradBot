{
 "cells": [
  {
   "cell_type": "code",
   "execution_count": null,
   "id": "c6eeb90a",
   "metadata": {},
   "outputs": [],
   "source": [
    "import os\n",
    "from binance.client import Client\n",
    "from binance.enums import *\n",
    "import pandas as pd\n",
    "from time import sleep\n",
    "\n",
    "\n",
    "api_key = 'api key'\n",
    "api_secret = 'secret key'\n",
    "\n",
    "\n",
    "client = Client(api_key, api_secret)\n"
   ]
  },
  {
   "cell_type": "code",
   "execution_count": null,
   "id": "8692a838",
   "metadata": {},
   "outputs": [],
   "source": [
    "\n",
    "symbol = 'BTCUSDT'  \n",
    "investment_amount = 100  \n",
    "interval = 60 * 60 * 24  \n",
    "total_investment = 1000  \n",
    "price_drop_threshold = 0.08\n"
   ]
  },
  {
   "cell_type": "code",
   "execution_count": null,
   "id": "af249036",
   "metadata": {},
   "outputs": [],
   "source": [
    "\n",
    "def get_current_price(symbol):\n",
    "    avg_price = client.get_avg_price(symbol=symbol)\n",
    "    return float(avg_price['price'])\n",
    "\n",
    "\n",
    "def place_market_order(symbol, quantity):\n",
    "    try:\n",
    "        order = client.futures_create_order(\n",
    "            symbol=symbol,\n",
    "            side=SIDE_BUY,\n",
    "            type=ORDER_TYPE_MARKET,\n",
    "            quantity=quantity\n",
    "        )\n",
    "        return order\n",
    "    except Exception as e:\n",
    "        print(f\"An exception occurred: {e}\")\n",
    "        return None\n",
    "\n",
    "def calculate_quantity(investment_amount, current_price):\n",
    "    return round(investment_amount / current_price, 6)\n",
    "\n",
    "def dca_bot(symbol, initial_investment_amount, interval, total_investment, price_drop_threshold):\n",
    "    invested_amount = 0\n",
    "    investment_amount = initial_investment_amount\n",
    "    initial_price = get_current_price(symbol)\n",
    "    last_price = initial_price\n",
    "\n",
    "    while invested_amount < total_investment:\n",
    "        current_price = get_current_price(symbol)\n",
    "\n",
    "        \n",
    "        if current_price <= last_price * (1 - price_drop_threshold):\n",
    "            investment_amount *= 2\n",
    "            last_price = current_price  \n",
    "\n",
    "        quantity = calculate_quantity(investment_amount, current_price)\n",
    "        print(f\"Placing order for {quantity} {symbol} at price {current_price}\")\n",
    "        order = place_market_order(symbol, quantity)\n",
    "        \n",
    "        if order:\n",
    "            invested_amount += investment_amount\n",
    "            print(f\"Total invested: {invested_amount} USD\")\n",
    "        else:\n",
    "            print(\"Order failed, retrying after interval\")\n",
    "        \n",
    "        sleep(interval)\n",
    "    \n",
    "    print(\"DCA completed\")\n",
    "\n",
    "\n"
   ]
  },
  {
   "cell_type": "code",
   "execution_count": null,
   "id": "6ded76b0",
   "metadata": {},
   "outputs": [],
   "source": [
    "#Starting the bot\n",
    "dca_bot(symbol, investment_amount, interval, total_investment,price_drop_threshold)"
   ]
  },
  {
   "cell_type": "code",
   "execution_count": null,
   "id": "fa0d5dc1",
   "metadata": {},
   "outputs": [],
   "source": []
  },
  {
   "cell_type": "code",
   "execution_count": null,
   "id": "c0426d17",
   "metadata": {},
   "outputs": [],
   "source": []
  }
 ],
 "metadata": {
  "kernelspec": {
   "display_name": "Python 3 (ipykernel)",
   "language": "python",
   "name": "python3"
  },
  "language_info": {
   "codemirror_mode": {
    "name": "ipython",
    "version": 3
   },
   "file_extension": ".py",
   "mimetype": "text/x-python",
   "name": "python",
   "nbconvert_exporter": "python",
   "pygments_lexer": "ipython3",
   "version": "3.11.5"
  }
 },
 "nbformat": 4,
 "nbformat_minor": 5
}
