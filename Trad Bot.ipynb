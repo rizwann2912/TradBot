{
 "cells": [
  {
   "cell_type": "code",
   "execution_count": 1,
   "id": "c6eeb90a",
   "metadata": {},
   "outputs": [],
   "source": [
    "import os\n",
    "from binance.client import Client\n",
    "from binance.enums import *\n",
    "import pandas as pd\n",
    "from time import sleep\n",
    "\n",
    "\n",
    "api_key = 'api key'\n",
    "api_secret = 'secret key'\n",
    "\n",
    "\n",
    "client = Client(api_key, api_secret)\n"
   ]
  },
  {
   "cell_type": "code",
   "execution_count": 2,
   "id": "8692a838",
   "metadata": {},
   "outputs": [],
   "source": [
    "# DCA parameters\n",
    "symbol = 'BTCUSDT'  \n",
    "initial_investment_amount = 100  \n",
    "interval = 60 * 60 * 24  \n",
    "total_investment = 1500  \n",
    "price_drop_threshold = 0.08  \n",
    "profit_threshold = 0.05  \n",
    "leverage = 10 \n"
   ]
  },
  {
   "cell_type": "code",
   "execution_count": 3,
   "id": "af249036",
   "metadata": {},
   "outputs": [],
   "source": [
    "def get_current_price(symbol):\n",
    "    avg_price = client.futures_mark_price(symbol=symbol)\n",
    "    return float(avg_price['markPrice'])\n",
    "\n",
    "def place_market_order(symbol, quantity, side):\n",
    "    try:\n",
    "        order = client.futures_create_order(\n",
    "            symbol=symbol,\n",
    "            side=side,\n",
    "            type=ORDER_TYPE_MARKET,\n",
    "            quantity=quantity\n",
    "        )\n",
    "        return order\n",
    "    except Exception as e:\n",
    "        print(f\"An exception occurred: {e}\")\n",
    "        return None\n",
    "\n",
    "def calculate_quantity(investment_amount, current_price, leverage):\n",
    "    return round((investment_amount * leverage) / current_price, 6)\n",
    "\n",
    "def dca_bot(symbol, initial_investment_amount, interval, total_investment, price_drop_threshold, profit_threshold, leverage):\n",
    "    invested_amount = 0\n",
    "    investment_amount = initial_investment_amount\n",
    "    initial_price = get_current_price(symbol)\n",
    "    last_price = initial_price\n",
    "    total_quantity = 0\n",
    "\n",
    "    while invested_amount < total_investment:\n",
    "        current_price = get_current_price(symbol)\n",
    "\n",
    "    \n",
    "        if current_price <= last_price * (1 - price_drop_threshold):\n",
    "            investment_amount *= 2\n",
    "            last_price = current_price \n",
    "\n",
    "        quantity = calculate_quantity(investment_amount, current_price, leverage)\n",
    "        print(f\"Placing order for {quantity} {symbol} at price {current_price}\")\n",
    "        order = place_market_order(symbol, quantity, SIDE_BUY)\n",
    "        \n",
    "        if order:\n",
    "            invested_amount += investment_amount\n",
    "            total_quantity += quantity\n",
    "            print(f\"Total invested: {invested_amount} USD\")\n",
    "            print(f\"Total quantity: {total_quantity}\")\n",
    "        else:\n",
    "            print(\"Order failed, retrying after interval\")\n",
    "        \n",
    "        sleep(interval)\n",
    "  \n",
    "        current_value = total_quantity * current_price / leverage\n",
    "        if current_value >= invested_amount * (1 + profit_threshold):\n",
    "            print(f\"Profit threshold reached: current value = {current_value}, invested amount = {invested_amount}\")\n",
    "            sell_order = place_market_order(symbol, total_quantity, SIDE_SELL)\n",
    "            if sell_order:\n",
    "                print(f\"Sold {total_quantity} {symbol} at price {current_price}\")\n",
    "                break\n",
    "            else:\n",
    "                print(\"Sell order failed, retrying after interval\")\n",
    "\n",
    "    print(\"DCA completed\")\n"
   ]
  },
  {
   "cell_type": "code",
   "execution_count": null,
   "id": "fa0d5dc1",
   "metadata": {},
   "outputs": [],
   "source": [
    "dca_bot(symbol, initial_investment_amount, interval, total_investment, price_drop_threshold, profit_threshold, leverage)"
   ]
  },
  {
   "cell_type": "code",
   "execution_count": null,
   "id": "c0426d17",
   "metadata": {},
   "outputs": [],
   "source": []
  }
 ],
 "metadata": {
  "kernelspec": {
   "display_name": "Python 3 (ipykernel)",
   "language": "python",
   "name": "python3"
  },
  "language_info": {
   "codemirror_mode": {
    "name": "ipython",
    "version": 3
   },
   "file_extension": ".py",
   "mimetype": "text/x-python",
   "name": "python",
   "nbconvert_exporter": "python",
   "pygments_lexer": "ipython3",
   "version": "3.11.5"
  }
 },
 "nbformat": 4,
 "nbformat_minor": 5
}
